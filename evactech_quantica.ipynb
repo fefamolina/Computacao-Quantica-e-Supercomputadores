{
 "cells": [
  {
   "cell_type": "markdown",
   "id": "b937d4c8",
   "metadata": {},
   "source": [
    "# ⚙️ Preparando o Ambiente de Execução\n",
    "\n",
    "Esta primeira célula de código é responsável por instalar todas as bibliotecas Python necessárias para executar este notebook. Se as bibliotecas já estiverem instaladas, o comando `pip install` geralmente as atualizará ou não fará nada.\n",
    "\n",
    "**Bibliotecas a serem instaladas:**\n",
    "- `qiskit`: Biblioteca principal do Qiskit para computação quântica.\n",
    "- `qiskit_aer`: Simuladores de alto desempenho do Qiskit.\n",
    "- `matplotlib`: Para gerar gráficos e visualizações.\n",
    "- `numpy`: Para computação numérica (uma dependência comum).\n",
    "- `pylatexenc`: Usado pelo Qiskit para renderizar circuitos com o backend Matplotlib (`mpl`), especialmente para símbolos LaTeX.\n",
    "- `ipython`: Fornece o kernel para o Jupyter e funcionalidades como `display` e magias de célula (`%matplotlib inline`).\n",
    "\n",
    "**Importante:** Após a execução desta célula, se novas bibliotecas forem instaladas ou atualizadas, **você precisará REINICIAR O KERNEL** do Jupyter Notebook para que as alterações tenham efeito. Você pode fazer isso através do menu \"Kernel\" -> \"Restart Kernel\"."
   ]
  },
  {
   "cell_type": "code",
   "execution_count": null,
   "id": "844f478d",
   "metadata": {},
   "outputs": [],
   "source": [
    "# Instalação das bibliotecas necessárias\n",
    "!pip install qiskit qiskit-aer matplotlib numpy pylatexenc ipython\n",
    "\n",
    "print(\"\\nInstalação/verificação de bibliotecas concluída.\")\n",
    "print(\"Se alguma biblioteca foi instalada ou atualizada pela primeira vez,\")\n",
    "print(\"POR FAVOR, REINICIE O KERNEL (Menu Kernel -> Restart Kernel) antes de prosseguir.\")"
   ]
  },
  {
   "cell_type": "markdown",
   "id": "442ec105",
   "metadata": {},
   "source": [
    "# Simulação Quântica de Cenários de Evacuação IoT\n",
    "\n",
    "Este notebook demonstra o uso do Qiskit para simular um sistema de decisão de evacuação baseado em sensores IoT. Primeiramente, exploramos um circuito quântico simples e, em seguida, aplicamos conceitos semelhantes para avaliar diferentes cenários de perigo (fumaça, obstrução) e determinar rotas de evacuação.\n",
    "\n",
    "**Principais Componentes:**\n",
    "1.  Um exemplo introdutório de circuito quântico.\n",
    "2.  Definição de uma classe `SensorIoT` para modelar os sensores.\n",
    "3.  Uma função `circuito_evacuacao` que cria um circuito quântico baseado nos estados dos sensores.\n",
    "4.  Uma função `simular_cenarios` que executa simulações para diferentes combinações de estados de sensores e interpreta os resultados.\n",
    "\n",
    "**Nota sobre Versões do Qiskit:**\n",
    "Este notebook foi ajustado para ser compatível com versões mais recentes do Qiskit (1.0+). Principais adaptações incluem:\n",
    "- A importação do módulo `Aer` de `qiskit_aer`.\n",
    "- A substituição da função `execute()` pelo método `run()` dos simuladores."
   ]
  },
  {
   "cell_type": "markdown",
   "id": "4587d254",
   "metadata": {},
   "source": [
    "## 1. Configuração Inicial e Circuito Quântico Básico\n",
    "\n",
    "Nesta etapa, após garantir que as bibliotecas estão instaladas (célula anterior), importamos os módulos específicos que usaremos.\n",
    "\n",
    "Criamos um circuito quântico simples com 2 qubits para demonstrar operações básicas:\n",
    "- **Porta Hadamard (H)**: Aplicada ao primeiro qubit (`qubit 0`) para colocá-lo em um estado de superposição.\n",
    "- **Porta CNOT (CX)**: Aplicada com o `qubit 0` como controle e o `qubit 1` como alvo, criando entrelaçamento entre eles.\n",
    "- **Porta Pauli-X (X)**: Aplicada ao `qubit 1` para simular um \"bloqueio\" ou uma mudança de estado.\n",
    "- **Medição**: Todos os qubits são medidos.\n",
    "\n",
    "O circuito é então desenhado, simulado, e os resultados (contagens dos estados medidos) são impressos."
   ]
  },
  {
   "cell_type": "code",
   "execution_count": null,
   "id": "f1e11031",
   "metadata": {},
   "outputs": [],
   "source": [
    "# Importando as bibliotecas necessárias\n",
    "from qiskit import QuantumCircuit # 'execute' e 'Aer' removidos desta linha\n",
    "from qiskit_aer import Aer       # 'Aer' importado de 'qiskit_aer'\n",
    "from qiskit.visualization import plot_histogram\n",
    "import numpy as np\n",
    "import matplotlib.pyplot as plt\n",
    "from IPython.display import display # Necessário para display() usado posteriormente\n",
    "\n",
    "# Configuração para exibir plots do matplotlib inline no notebook\n",
    "%matplotlib inline\n",
    "\n",
    "# Criando um circuito quântico com 2 qubits\n",
    "circuit = QuantumCircuit(2)\n",
    "\n",
    "# Aplicando a porta Hadamard no primeiro qubit\n",
    "circuit.h(0)\n",
    "\n",
    "# Aplicando a porta CNOT, onde o primeiro qubit controla o segundo\n",
    "circuit.cx(0, 1)\n",
    "\n",
    "# Adicionando uma porta Pauli (X) para simular bloqueios em um dos caminhos\n",
    "# Aqui vamos aplicar a porta X no segundo qubit, simulando um caminho bloqueado\n",
    "circuit.x(1)\n",
    "\n",
    "# Medindo os qubits\n",
    "circuit.measure_all()\n",
    "\n",
    "# Desenhando o circuito (como no script original)\n",
    "print(\"--- Desenho do Circuito Inicial ---\")\n",
    "circuit.draw('mpl')\n",
    "plt.show()\n",
    "\n",
    "# Simulando o circuito inicial\n",
    "simulator = Aer.get_backend('qasm_simulator') # Mantendo 'qasm_simulator'\n",
    "# CORREÇÃO ESSENCIAL: Substituindo execute(...) por simulator.run(...)\n",
    "result = simulator.run(circuit, shots=1024).result()\n",
    "counts = result.get_counts(circuit)\n",
    "\n",
    "# Exibindo os resultados do circuito inicial (como no script original)\n",
    "print(\"Contagem de resultados:\", counts)"
   ]
  },
  {
   "cell_type": "markdown",
   "id": "853a6ede",
   "metadata": {},
   "source": [
    "## 2. Modelo Simbólico dos Estados dos Sensores IoT\n",
    "\n",
    "Para representar os sensores em nosso sistema de evacuação, definimos uma classe simples chamada `SensorIoT`. Cada instância desta classe terá:\n",
    "- `nome`: Uma string identificando o sensor (ex: \"Fumaça\", \"Obstrução\").\n",
    "- `estado`: Um valor numérico (0 ou 1) representando o estado do sensor:\n",
    "    - `0`: Indica que o sensor não detectou perigo (condição segura).\n",
    "    - `1`: Indica que o sensor detectou perigo (condição de alerta)."
   ]
  },
  {
   "cell_type": "code",
   "execution_count": null,
   "id": "bfad2728",
   "metadata": {},
   "outputs": [],
   "source": [
    "# 1. Modelo Simbólico dos Estados dos Sensores\n",
    "class SensorIoT:\n",
    "    def __init__(self, nome, estado):\n",
    "        self.nome = nome  # Ex: \"Fumaça\", \"Temperatura\", \"Obstrução\"\n",
    "        self.estado = estado  # 0 (seguro) ou 1 (perigoso)"
   ]
  },
  {
   "cell_type": "markdown",
   "id": "06f43cdf",
   "metadata": {},
   "source": [
    "## 3. Circuito Quântico para Tomada de Decisão de Evacuação\n",
    "\n",
    "A função `circuito_evacuacao` é projetada para criar um circuito quântico que modela a decisão de evacuação com base nos dados de dois sensores principais.\n",
    "\n",
    "**Detalhes do Circuito:**\n",
    "- **Qubits**: Utiliza 3 qubits.\n",
    "    - `qubit 0`: Representa o estado do primeiro sensor (ex: Fumaça).\n",
    "    - `qubit 1`: Representa o estado do segundo sensor (ex: Obstrução).\n",
    "    - `qubit 2`: Atua como um qubit de \"decisão\" ou \"resultado\".\n",
    "- **Bits Clássicos**: Utiliza 2 bits clássicos para armazenar os resultados das medições.\n",
    "\n",
    "**Lógica do Circuito:**\n",
    "1.  **Codificação dos Sensores**: Se um sensor está em estado de perigo (`estado == 1`), uma porta X (NOT quântico) é aplicada ao qubit correspondente.\n",
    "2.  **Superposição**: Portas Hadamard (H) são aplicadas aos qubits dos sensores (`qubit 0` e `qubit 1`).\n",
    "3.  **Entrelaçamento e Decisão**: Portas CNOT são usadas para correlacionar os estados dos sensores com o qubit de decisão (`qubit 2`).\n",
    "4.  **Medição**: O `qubit 0` é medido no `bit clássico 0`, e o `qubit 2` (decisão) é medido no `bit clássico 1`. Resultados no formato `c1c0`."
   ]
  },
  {
   "cell_type": "code",
   "execution_count": null,
   "id": "4fe5b92a",
   "metadata": {},
   "outputs": [],
   "source": [
    "# 2. Circuito Quântico para Tomada de Decisão\n",
    "def circuito_evacuacao(sensores):\n",
    "    qc = QuantumCircuit(3, 2)  # 3 qubits (2 para sensores + 1 para decisão)\n",
    "    \n",
    "    # Codificação dos dados dos sensores nos qubits\n",
    "    for i, sensor in enumerate(sensores[:2]):  # Usando 2 sensores principais\n",
    "        if sensor.estado == 1:  # Se sensor detecta perigo\n",
    "            qc.x(i)  # Aplica porta X (Pauli-X)\n",
    "    \n",
    "    # Superposição para explorar múltiplos caminhos\n",
    "    qc.h(0)  # Porta Hadamard no primeiro sensor\n",
    "    qc.h(1)  # Porta Hadamard no segundo sensor\n",
    "    \n",
    "    # Entrelaçamento para correlação entre sensores\n",
    "    qc.cx(0, 2)  # CNOT: qubit 0 controla o qubit 2 (decisão)\n",
    "    qc.cx(1, 2)  # CNOT: qubit 1 também influencia a decisão\n",
    "    \n",
    "    # Medição apenas dos qubits de decisão\n",
    "    qc.measure([0, 2], [0, 1])  # Mede caminho (0) e decisão (2)\n",
    "    \n",
    "    return qc"
   ]
  },
  {
   "cell_type": "markdown",
   "id": "55c4b488",
   "metadata": {},
   "source": [
    "## 4. Simulação com Diferentes Cenários de Perigo\n",
    "\n",
    "Definição da função `simular_cenarios`. A execução da simulação dentro desta função foi adaptada para usar `NOMEDOSIMULADOR.run(...)`. As demais lógicas, nomes de variáveis (`cenarios`, `cenario`, `qc`, `simulator`, `result`, `counts`) e a estrutura de plotagem com `display(plot_histogram(counts))` são mantidas como no script original."
   ]
  },
  {
   "cell_type": "code",
   "execution_count": null,
   "id": "6bfbd3c9",
   "metadata": {},
   "outputs": [],
   "source": [
    "# 3. Simulação com Diferentes Cenários\n",
    "# 'display' já foi importado na Célula 5\n",
    "# 'Aer' já foi importado na Célula 5\n",
    "\n",
    "def simular_cenarios():\n",
    "    # Cenários de teste (como no script original)\n",
    "    cenarios = [\n",
    "        [SensorIoT(\"Fumaça\", 0), SensorIoT(\"Obstrução\", 0)],  # Tudo seguro\n",
    "        [SensorIoT(\"Fumaça\", 1), SensorIoT(\"Obstrução\", 0)],  # Fumaça detectada\n",
    "        [SensorIoT(\"Fumaça\", 0), SensorIoT(\"Obstrução\", 1)],  # Caminho bloqueado\n",
    "        [SensorIoT(\"Fumaça\", 1), SensorIoT(\"Obstrução\", 1)]   # Ambos perigosos\n",
    "    ]\n",
    "    \n",
    "    # Simular cada cenário (como no script original)\n",
    "    for i, cenario in enumerate(cenarios):\n",
    "        print(f\"\\n=== Cenário {i+1} ===\")\n",
    "        print(f\"Sensor Fumaça: {'Perigo' if cenario[0].estado else 'Seguro'}\")\n",
    "        print(f\"Sensor Obstrução: {'Perigo' if cenario[1].estado else 'Seguro'}\")\n",
    "        \n",
    "        qc = circuito_evacuacao(cenario)\n",
    "        # A linha abaixo é repetida a cada iteração do loop, como no script original.\n",
    "        simulator = Aer.get_backend('qasm_simulator')\n",
    "        # CORREÇÃO ESSENCIAL: Substituindo execute(...) por simulator.run(...)\n",
    "        result = simulator.run(qc, shots=1000).result()\n",
    "        # 'counts' aqui é uma variável local para a função/loop, como no script original.\n",
    "        counts = result.get_counts(qc)\n",
    "        \n",
    "        # Visualização (como no script original)\n",
    "        print(\"\\nDistribuição de Probabilidades:\")\n",
    "        display(plot_histogram(counts, title=f'Resultados Cenário {i+1}')) # Adicionado título para clareza\n",
    "        \n",
    "        # Interpretação dos resultados (como no script original)\n",
    "        print(\"\\nRecomendação de Evacuação:\")\n",
    "        if '00' in counts and counts['00'] > 600:\n",
    "            print(\"✅ Rota Principal Segura\")\n",
    "        elif '01' in counts and counts['01'] > 600:\n",
    "            print(\"⚠️ Usar Rota Alternativa 1\")\n",
    "        elif '10' in counts and counts['10'] > 600:\n",
    "            print(\"⚠️ Usar Rota Alternativa 2\")\n",
    "        else:\n",
    "            print(\"🚨 EVACUAÇÃO DE EMERGÊNCIA! Usar saídas alternativas\")"
   ]
  },
  {
   "cell_type": "markdown",
   "id": "6e4d1b47",
   "metadata": {},
   "source": [
    "## 5. Execução Final\n",
    "\n",
    "Execução do plot do histograma para a variável `counts` global (do primeiro circuito) e chamada da função `simular_cenarios`, conforme o script original."
   ]
  },
  {
   "cell_type": "code",
   "execution_count": null,
   "id": "d88e5364",
   "metadata": {},
   "outputs": [],
   "source": [
    "# Plotando o histograma dos resultados (do PRIMEIRO circuito simulado na Célula 5)\n",
    "# 'counts' aqui refere-se à variável global da Célula 5.\n",
    "print(\"\\n--- Histograma Final (do primeiro circuito simulado no início) ---\")\n",
    "plot_histogram(counts)\n",
    "plt.show()\n",
    "\n",
    "# 4. Executar a simulação (como no script original)\n",
    "simular_cenarios()"
   ]
  }
 ],
 "metadata": {
  "kernelspec": {
   "display_name": "Python 3",
   "language": "python",
   "name": "python3"
  },
  "language_info": {
   "codemirror_mode": {
    "name": "ipython",
    "version": 3
   },
   "file_extension": ".py",
   "mimetype": "text/x-python",
   "name": "python",
   "nbconvert_exporter": "python",
   "pygments_lexer": "ipython3",
   "version": "3.13.3"
  }
 },
 "nbformat": 4,
 "nbformat_minor": 5
}
